{
 "cells": [
  {
   "cell_type": "markdown",
   "id": "9628af93-9b05-47a9-8fe0-5a97ad3778b8",
   "metadata": {},
   "source": [
    "# Hello!\n",
    "Please read this instructions carefully and press the button below to continue.\n",
    "- instruction 1\n",
    "- instruction 2\n",
    "\n",
    "Below example shows how to move to page B by click the button on the page A."
   ]
  },
  {
   "cell_type": "code",
   "execution_count": 10,
   "id": "4dfe19f7-eb1a-447c-84dc-27eb0cf6ebfb",
   "metadata": {
    "tags": []
   },
   "outputs": [
    {
     "data": {
      "application/vnd.jupyter.widget-view+json": {
       "model_id": "756e54100a1742f180718cf3f8c6902f",
       "version_major": 2,
       "version_minor": 0
      },
      "text/plain": [
       "Output()"
      ]
     },
     "metadata": {},
     "output_type": "display_data"
    }
   ],
   "source": [
    "import ipywidgets as widgets\n",
    "from IPython.display import display\n",
    "\n",
    "page_a_content = widgets.Label('Welcome to Page A!')\n",
    "page_b_content = widgets.Label('This is Page B!')\n",
    "button_x = widgets.Button(description='Go to Page B')\n",
    "output = widgets.Output()\n",
    "\n",
    "def on_button_clicked(b):\n",
    "    with output:\n",
    "        output.clear_output()  # Clear the previous output\n",
    "        display(page_b_content)  # Display only the content for Page B\n",
    "\n",
    "button_x.on_click(on_button_clicked)\n",
    "\n",
    "# Initially display Page A content and the button\n",
    "with output:\n",
    "    display(page_a_content, button_x)\n",
    "\n",
    "# Display the output widget itself\n",
    "display(output)\n"
   ]
  },
  {
   "cell_type": "code",
   "execution_count": null,
   "id": "dc4482ac-67b7-41a0-bb2a-04f89adbf0ce",
   "metadata": {},
   "outputs": [],
   "source": []
  }
 ],
 "metadata": {
  "kernelspec": {
   "display_name": "Python 3 (ipykernel)",
   "language": "python",
   "name": "python3"
  },
  "language_info": {
   "codemirror_mode": {
    "name": "ipython",
    "version": 3
   },
   "file_extension": ".py",
   "mimetype": "text/x-python",
   "name": "python",
   "nbconvert_exporter": "python",
   "pygments_lexer": "ipython3",
   "version": "3.11.5"
  }
 },
 "nbformat": 4,
 "nbformat_minor": 5
}
