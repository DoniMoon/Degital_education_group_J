{
 "cells": [
  {
   "cell_type": "markdown",
   "id": "9628af93-9b05-47a9-8fe0-5a97ad3778b8",
   "metadata": {},
   "source": [
    "# Hello!\n",
    "Please read this instructions carefully and press the button below to continue.\n",
    "- instruction 1\n",
    "- instruction 2\n",
    "\n",
    "Below example shows how to move to page B by click the button on the page A."
   ]
  },
  {
   "cell_type": "code",
   "execution_count": 1,
   "id": "4dfe19f7-eb1a-447c-84dc-27eb0cf6ebfb",
   "metadata": {
    "tags": []
   },
   "outputs": [
    {
     "data": {
      "application/vnd.jupyter.widget-view+json": {
       "model_id": "db4bb4f29d3c4f74a94ef417aecaa4e1",
       "version_major": 2,
       "version_minor": 0
      },
      "text/plain": [
       "Output()"
      ]
     },
     "metadata": {},
     "output_type": "display_data"
    }
   ],
   "source": [
    "import ipywidgets as widgets\n",
    "from IPython.display import display, IFrame, update_display\n",
    "\n",
    "page_a_content = widgets.Label('Welcome to Page A!')\n",
    "page_b_content = widgets.Label('This is Page B!')\n",
    "button_start = widgets.Button(description='Go to Page B')\n",
    "output = widgets.Output()\n",
    "\n",
    "def on_button_clicked(b):\n",
    "    with output:\n",
    "        output.clear_output()  # Clear the previous output\n",
    "        display(page_b_content)  # Display only the content for Page B\n",
    "\n",
    "button_start.on_click(on_button_clicked)\n",
    "\n",
    "# Initially display Page A content and the button\n",
    "with output:\n",
    "    display(page_a_content, button_start)\n",
    "\n",
    "# Display the output widget itself\n",
    "display(output)\n"
   ]
  },
  {
   "cell_type": "markdown",
   "metadata": {},
   "source": [
    "## Question Solving Session"
   ]
  },
  {
   "cell_type": "code",
   "execution_count": 2,
   "id": "dc4482ac-67b7-41a0-bb2a-04f89adbf0ce",
   "metadata": {},
   "outputs": [],
   "source": [
    "import Casino as c\n",
    "\n",
    "# Parameters\n",
    "player_money = 10\n",
    "host_reward = 3\n",
    "bet_lower_limit = 2\n",
    "bet_upper_limit = 4\n",
    "\n",
    "# Environment\n",
    "casino = c.Casino(host_reward, bet_lower_limit, bet_upper_limit)\n",
    "player = c.Player(player_money, casino=casino)\n",
    "agents = [c.BraggerAgent(casino), c.CowardAgent(casino), c.RandomAgent(casino), c.SmartAgent(casino)]\n",
    "playthrough = c.Playthrough(casino, player, agents, True)\n",
    "\n",
    "def reset_env():\n",
    "    global casino, player, agents, playthrough\n",
    "    casino = c.Casino(host_reward, bet_lower_limit, bet_upper_limit)\n",
    "    player = c.Player(player_money, casino=casino)\n",
    "    agents = [c.BraggerAgent(casino), c.CowardAgent(casino), c.RandomAgent(casino), c.SmartAgent(casino)]\n",
    "    playthrough = c.Playthrough(casino, player, agents, True)"
   ]
  },
  {
   "cell_type": "code",
   "execution_count": 3,
   "metadata": {},
   "outputs": [],
   "source": [
    "def make_html_line(lines:list):\n",
    "    html = \"<p>\"\n",
    "    for line in lines:\n",
    "        html += line + \"<br>\"\n",
    "    html += \"</p>\"\n",
    "    return html\n",
    "\n",
    "def make_html_paragraph(line:str):\n",
    "    paragraph_html = \"\"\"\n",
    "    <!DOCTYPE html>\n",
    "    <html>\n",
    "    <head>\n",
    "        <style>\n",
    "            body {\n",
    "                font-family: Arial, sans-serif;\n",
    "                font-size: 14px;\n",
    "            }\n",
    "        </style>\n",
    "    </head>\n",
    "    <body>\"\"\"\n",
    "    para = make_html_line(line.split(\"\\n\"))\n",
    "    paragraph_html_end = \"\"\"\n",
    "    </body>\n",
    "    </html>\n",
    "    \"\"\"\n",
    "    return paragraph_html + para + paragraph_html_end\n"
   ]
  },
  {
   "cell_type": "code",
   "execution_count": 5,
   "metadata": {},
   "outputs": [
    {
     "data": {
      "application/vnd.jupyter.widget-view+json": {
       "model_id": "e4debe7ce28f470eaf142d1e07281c89",
       "version_major": 2,
       "version_minor": 0
      },
      "text/plain": [
       "VBox(children=(HTML(value='\\n    <!DOCTYPE html>\\n    <html>\\n    <head>\\n        <style>\\n            body {\\…"
      ]
     },
     "metadata": {},
     "output_type": "display_data"
    }
   ],
   "source": [
    "import time\n",
    "import threading\n",
    "reset_env()\n",
    "\n",
    "page_a_content = widgets.HTML(make_html_paragraph(playthrough.get_intro_str()))\n",
    "\n",
    "button_continue = widgets.Button(description='Continue')\n",
    "button_start = widgets.Button(description='Next')\n",
    "output = widgets.Output()\n",
    "ui = widgets.VBox()\n",
    "\n",
    "round_number = 0\n",
    "bet = None\n",
    "choice = None\n",
    "\n",
    "main_handle = None\n",
    "\n",
    "timer_widget = widgets.FloatProgress(\n",
    "    value=0,\n",
    "    min=0,\n",
    "    max=30,\n",
    "    description='Time Limit:',\n",
    "    bar_style='info',\n",
    "    orientation='horizontal',\n",
    "    style={'bar_color': \"green\"}\n",
    ")\n",
    "time_begin = 0\n",
    "timer_start = False\n",
    "\n",
    "# get color from green to red\n",
    "def get_color(value:float, min:float, max:float):\n",
    "    return f\"#\" + f\"{int(255 * (value - min) / (max - min)) :02x}\" + f\"{int(255 * (max - value) / (max - min)) :02x}\" + f\"00\"\n",
    "\n",
    "def on_button_continue_clicked(b):\n",
    "    global round_number\n",
    "    global main_handle\n",
    "    global timer_start\n",
    "    output.clear_output()  # Clear the previous output\n",
    "    timer_start = False\n",
    "    bet_value = bet.value\n",
    "    if choice.value == \"High\":\n",
    "        choice_value = 1\n",
    "    elif choice.value == \"Low\":\n",
    "        choice_value = 0\n",
    "    playthrough.play_round(round_number, bet_value, choice_value)\n",
    "    page_round_result_content = widgets.HTML(make_html_paragraph(playthrough.get_round_result_str(round_number)))\n",
    "    round_number += 1\n",
    "    if round_number >= playthrough.get_rounds():\n",
    "        page_conclusion_content = widgets.HTML(make_html_paragraph(playthrough.get_conclusion_str()))\n",
    "        ui.children = [page_round_result_content, page_conclusion_content]\n",
    "    else:\n",
    "        ui.children = [page_round_result_content,button_start]\n",
    "    \n",
    "\n",
    "def on_button_clicked(b):\n",
    "    global round_number \n",
    "    global bet\n",
    "    global choice\n",
    "    global timer_start\n",
    "    global time_begin\n",
    "    global main_handle\n",
    "    with output:\n",
    "        output.clear_output()  # Clear the previous output\n",
    "        page_round_content = widgets.HTML(make_html_paragraph(playthrough.get_round_str(round_number)))\n",
    "        bets = player.get_availiable_bets()\n",
    "        bet = widgets.BoundedIntText(\n",
    "            value=bets[0],\n",
    "            min=min(bets),\n",
    "            max=max(bets),\n",
    "            step=1,\n",
    "            description='Bet:',\n",
    "            disabled=False\n",
    "        )\n",
    "        choice = widgets.RadioButtons(\n",
    "            options=['High', 'Low'],\n",
    "            description='Choice:',\n",
    "            disabled=False\n",
    "        )\n",
    "        time_begin = time.time()\n",
    "        timer_widget.value = 0\n",
    "        time_limit = playthrough.get_round_time_limit(round_number)\n",
    "        timer_widget.max = time_limit\n",
    "        timer_start = True\n",
    "        ui.children = [page_round_content, bet, choice, timer_widget, button_continue]\n",
    "        def update_time():\n",
    "            global time_begin\n",
    "            global button_continue\n",
    "            button_continue.disabled = True\n",
    "            button_continue.description = \"Thinking...\"\n",
    "            while timer_start == False:\n",
    "                time.sleep(0.1)\n",
    "            while timer_widget.value < timer_widget.max:\n",
    "                #timer_widget.style={'bar_color': get_color(timer_widget.value, timer_widget.min, timer_widget.max)}\n",
    "                if timer_widget.value >= 5:\n",
    "                    button_continue.disabled = False\n",
    "                    button_continue.description = \"Bet!\"\n",
    "                timer_widget.value = time.time() - time_begin\n",
    "                time.sleep(0.1)\n",
    "                \n",
    "                if timer_start == False:\n",
    "                    return\n",
    "\n",
    "            button_continue.click()\n",
    "\n",
    "        thread = threading.Thread(target=update_time)\n",
    "        thread.start()\n",
    "        main_handle = display(ui,display_id=\"main\")\n",
    "\n",
    "\n",
    "button_continue.on_click(on_button_continue_clicked)\n",
    "button_start.on_click(on_button_clicked)\n",
    "\n",
    "\n",
    "# Initially display Page A content and the button\n",
    "ui.children = [page_a_content, button_start]\n",
    "display(ui)\n"
   ]
  }
 ],
 "metadata": {
  "kernelspec": {
   "display_name": "Python 3 (ipykernel)",
   "language": "python",
   "name": "python3"
  },
  "language_info": {
   "codemirror_mode": {
    "name": "ipython",
    "version": 3
   },
   "file_extension": ".py",
   "mimetype": "text/x-python",
   "name": "python",
   "nbconvert_exporter": "python",
   "pygments_lexer": "ipython3",
   "version": "3.9.13"
  }
 },
 "nbformat": 4,
 "nbformat_minor": 5
}
