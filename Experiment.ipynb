{
 "cells": [
  {
   "cell_type": "markdown",
   "id": "9628af93-9b05-47a9-8fe0-5a97ad3778b8",
   "metadata": {},
   "source": [
    "# Hello!\n",
    "Please read this instructions carefully and press the button below to continue.\n",
    "- instruction 1\n",
    "- instruction 2"
   ]
  },
  {
   "cell_type": "code",
   "execution_count": 9,
   "id": "4dfe19f7-eb1a-447c-84dc-27eb0cf6ebfb",
   "metadata": {
    "tags": []
   },
   "outputs": [
    {
     "data": {
      "application/vnd.jupyter.widget-view+json": {
       "model_id": "5c89c6cfce754fc084f1ec7174270ab9",
       "version_major": 2,
       "version_minor": 0
      },
      "text/plain": [
       "Output()"
      ]
     },
     "metadata": {},
     "output_type": "display_data"
    }
   ],
   "source": [
    "import ipywidgets as widgets\n",
    "from IPython.display import display\n",
    "\n",
    "page_a_content = widgets.Label('Welcome to Page A!')\n",
    "page_b_content = widgets.Label('This is Page B!')\n",
    "button_x = widgets.Button(description='Go to Page B')\n",
    "output = widgets.Output()\n",
    "\n",
    "def on_button_clicked(b):\n",
    "    with output:\n",
    "        output.clear_output()  # Clear the previous output\n",
    "        display(page_b_content)  # Display only the content for Page B\n",
    "\n",
    "button_x.on_click(on_button_clicked)\n",
    "\n",
    "# Initially display Page A content and the button\n",
    "with output:\n",
    "    display(page_a_content, button_x)\n",
    "\n",
    "# Display the output widget itself\n",
    "display(output)\n"
   ]
  },
  {
   "cell_type": "code",
   "execution_count": 6,
   "id": "ea86b8e9-c1d5-4898-97f0-ab8d4aaca36e",
   "metadata": {
    "tags": []
   },
   "outputs": [
    {
     "data": {
      "application/vnd.jupyter.widget-view+json": {
       "model_id": "e6886fc3b44d4fc283584513c9489317",
       "version_major": 2,
       "version_minor": 0
      },
      "text/plain": [
       "Label(value='Welcome to Page A!')"
      ]
     },
     "metadata": {},
     "output_type": "display_data"
    },
    {
     "data": {
      "application/vnd.jupyter.widget-view+json": {
       "model_id": "80d367bc4fd048b598f5b507a00b6941",
       "version_major": 2,
       "version_minor": 0
      },
      "text/plain": [
       "Button(description='Go to Page B', style=ButtonStyle())"
      ]
     },
     "metadata": {},
     "output_type": "display_data"
    },
    {
     "data": {
      "application/vnd.jupyter.widget-view+json": {
       "model_id": "b46deda4456447bcab1c6564391c8ac8",
       "version_major": 2,
       "version_minor": 0
      },
      "text/plain": [
       "Output()"
      ]
     },
     "metadata": {},
     "output_type": "display_data"
    }
   ],
   "source": [
    "import ipywidgets as widgets\n",
    "from IPython.display import display\n",
    "\n",
    "page_a_content = widgets.Label('Welcome to Page A!')\n",
    "page_b_content = widgets.Label('This is Page B!')\n",
    "button_x = widgets.Button(description='Go to Page B')\n",
    "output = widgets.Output()\n",
    "\n",
    "def on_button_clicked(b):\n",
    "    with output:\n",
    "        output.clear_output()  # Clear the previous output\n",
    "        display(page_b_content)  # Display the content for Page B\n",
    "\n",
    "button_x.on_click(on_button_clicked)\n",
    "\n",
    "display(page_a_content, button_x, output)  # Now we also display the output widget\n"
   ]
  },
  {
   "cell_type": "code",
   "execution_count": 7,
   "id": "7a228e86-1d73-4517-95c3-a88749d7d996",
   "metadata": {
    "tags": []
   },
   "outputs": [
    {
     "data": {
      "application/vnd.jupyter.widget-view+json": {
       "model_id": "03be5214df2847eb9f52c50c36428472",
       "version_major": 2,
       "version_minor": 0
      },
      "text/plain": [
       "Output()"
      ]
     },
     "metadata": {},
     "output_type": "display_data"
    }
   ],
   "source": [
    "import ipywidgets as widgets\n",
    "from IPython.display import display\n",
    "\n",
    "page_a_content = widgets.Label('Welcome to Page A!')\n",
    "page_b_content = widgets.Label('This is Page B!')\n",
    "button_x = widgets.Button(description='Go to Page B')\n",
    "output = widgets.Output()\n",
    "\n",
    "def on_button_clicked(b):\n",
    "    with output:\n",
    "        output.clear_output()  # Clear the previous output\n",
    "        display(page_b_content)  # Display only the content for Page B\n",
    "\n",
    "button_x.on_click(on_button_clicked)\n",
    "\n",
    "# Initially display Page A content and the button\n",
    "with output:\n",
    "    display(page_a_content, button_x)\n",
    "\n",
    "# Display the output widget itself\n",
    "display(output)\n"
   ]
  },
  {
   "cell_type": "code",
   "execution_count": null,
   "id": "1e87c02f-06bd-40cb-9441-044c0a05aa13",
   "metadata": {},
   "outputs": [],
   "source": []
  }
 ],
 "metadata": {
  "kernelspec": {
   "display_name": "Python 3 (ipykernel)",
   "language": "python",
   "name": "python3"
  },
  "language_info": {
   "codemirror_mode": {
    "name": "ipython",
    "version": 3
   },
   "file_extension": ".py",
   "mimetype": "text/x-python",
   "name": "python",
   "nbconvert_exporter": "python",
   "pygments_lexer": "ipython3",
   "version": "3.11.5"
  }
 },
 "nbformat": 4,
 "nbformat_minor": 5
}
