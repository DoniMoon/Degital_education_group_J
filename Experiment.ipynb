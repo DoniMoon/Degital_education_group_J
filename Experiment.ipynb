{
 "cells": [
  {
   "cell_type": "markdown",
   "id": "9628af93-9b05-47a9-8fe0-5a97ad3778b8",
   "metadata": {},
   "source": [
    "# Hello!\n",
    "Please read this instructions carefully and press the button below to continue.\n",
    "- instruction 1\n",
    "- instruction 2\n",
    "\n",
    "Below example shows how to move to page B by click the button on the page A."
   ]
  },
  {
   "cell_type": "code",
   "execution_count": 1,
   "id": "4dfe19f7-eb1a-447c-84dc-27eb0cf6ebfb",
   "metadata": {
    "tags": []
   },
   "outputs": [
    {
     "data": {
      "application/vnd.jupyter.widget-view+json": {
       "model_id": "c76172baab3b484fa88b5b81abf7ba11",
       "version_major": 2,
       "version_minor": 0
      },
      "text/plain": [
       "Output()"
      ]
     },
     "metadata": {},
     "output_type": "display_data"
    }
   ],
   "source": [
    "import ipywidgets as widgets\n",
    "from IPython.display import display, IFrame\n",
    "\n",
    "page_a_content = widgets.Label('Welcome to Page A!')\n",
    "page_b_content = widgets.Label('This is Page B!')\n",
    "button_start = widgets.Button(description='Go to Page B')\n",
    "output = widgets.Output()\n",
    "\n",
    "def on_button_clicked(b):\n",
    "    with output:\n",
    "        output.clear_output()  # Clear the previous output\n",
    "        display(page_b_content)  # Display only the content for Page B\n",
    "\n",
    "button_start.on_click(on_button_clicked)\n",
    "\n",
    "# Initially display Page A content and the button\n",
    "with output:\n",
    "    display(page_a_content, button_start)\n",
    "\n",
    "# Display the output widget itself\n",
    "display(output)\n"
   ]
  },
  {
   "cell_type": "markdown",
   "metadata": {},
   "source": [
    "## Question Solving Session"
   ]
  },
  {
   "cell_type": "code",
   "execution_count": 2,
   "id": "dc4482ac-67b7-41a0-bb2a-04f89adbf0ce",
   "metadata": {},
   "outputs": [],
   "source": [
    "import Casino as c\n",
    "\n",
    "# Parameters\n",
    "player_money = 10\n",
    "host_reward = 3\n",
    "bet_lower_limit = 2\n",
    "bet_upper_limit = 4\n",
    "\n",
    "# Environment\n",
    "casino = c.Casino(host_reward, bet_lower_limit, bet_upper_limit)\n",
    "player = c.Player(player_money, casino=casino)\n",
    "agents = [c.BraggerAgent(casino), c.CowardAgent(casino), c.RandomAgent(casino), c.SmartAgent(casino)]\n",
    "playthrough = c.Playthrough(casino, player, agents, True)\n",
    "\n",
    "def reset_env():\n",
    "    global casino, player, agents, playthrough\n",
    "    casino = c.Casino(host_reward, bet_lower_limit, bet_upper_limit)\n",
    "    player = c.Player(player_money, casino=casino)\n",
    "    agents = [c.BraggerAgent(casino), c.CowardAgent(casino), c.RandomAgent(casino), c.SmartAgent(casino)]\n",
    "    playthrough = c.Playthrough(casino, player, agents, True)"
   ]
  },
  {
   "cell_type": "code",
   "execution_count": 3,
   "metadata": {},
   "outputs": [],
   "source": [
    "def make_html_line(lines:list):\n",
    "    html = \"<p>\"\n",
    "    for line in lines:\n",
    "        html += line + \"<br>\"\n",
    "    html += \"</p>\"\n",
    "    return html\n",
    "\n",
    "def make_html_paragraph(line:str):\n",
    "    paragraph_html = \"\"\"\n",
    "    <!DOCTYPE html>\n",
    "    <html>\n",
    "    <head>\n",
    "        <style>\n",
    "            body {\n",
    "                font-family: Arial, sans-serif;\n",
    "                font-size: 14px;\n",
    "            }\n",
    "        </style>\n",
    "    </head>\n",
    "    <body>\"\"\"\n",
    "    para = make_html_line(line.split(\"\\n\"))\n",
    "    paragraph_html_end = \"\"\"\n",
    "    </body>\n",
    "    </html>\n",
    "    \"\"\"\n",
    "    return paragraph_html + para + paragraph_html_end\n"
   ]
  },
  {
   "cell_type": "code",
   "execution_count": 4,
   "metadata": {},
   "outputs": [
    {
     "data": {
      "application/vnd.jupyter.widget-view+json": {
       "model_id": "ececbe1ae04a4dc18f42d40adf98396e",
       "version_major": 2,
       "version_minor": 0
      },
      "text/plain": [
       "Output()"
      ]
     },
     "metadata": {},
     "output_type": "display_data"
    }
   ],
   "source": [
    "reset_env()\n",
    "\n",
    "page_a_content = widgets.HTML(make_html_paragraph(playthrough.get_intro_str()))\n",
    "\n",
    "button_continue = widgets.Button(description='Continue')\n",
    "button_start = widgets.Button(description='Next')\n",
    "output = widgets.Output()\n",
    "\n",
    "round_number = 0\n",
    "bet = None\n",
    "choice = None\n",
    "\n",
    "def on_button_continue_clicked(b):\n",
    "    global round_number \n",
    "    with output:\n",
    "        output.clear_output()  # Clear the previous output\n",
    "        bet_value = bet.value\n",
    "        if choice.value == \"High\":\n",
    "            choice_value = 1\n",
    "        elif choice.value == \"Low\":\n",
    "            choice_value = 0\n",
    "        playthrough.play_round(round_number, bet_value, choice_value)\n",
    "        page_round_result_content = widgets.HTML(make_html_paragraph(playthrough.get_round_result_str(round_number)))\n",
    "        round_number += 1\n",
    "        if (round_number >= playthrough.get_rounds()):\n",
    "            display(page_round_result_content)\n",
    "        else:\n",
    "            display(page_round_result_content, button_start)\n",
    "\n",
    "def on_button_clicked(b):\n",
    "    global round_number \n",
    "    global bet\n",
    "    global choice\n",
    "    with output:\n",
    "        output.clear_output()  # Clear the previous output\n",
    "        page_round_content = widgets.HTML(make_html_paragraph(playthrough.get_round_str(round_number)))\n",
    "        bets = player.get_availiable_bets()\n",
    "        bet = widgets.BoundedIntText(\n",
    "            value=bets[0],\n",
    "            min=min(bets),\n",
    "            max=max(bets),\n",
    "            step=1,\n",
    "            description='Bet:',\n",
    "            disabled=False\n",
    "        )\n",
    "        choice = widgets.RadioButtons(\n",
    "            options=['High', 'Low'],\n",
    "            description='Choice:',\n",
    "            disabled=False\n",
    "        )\n",
    "        display(page_round_content, bet, choice, button_continue)  # Display only the content for Page B\n",
    "\n",
    "button_continue.on_click(on_button_continue_clicked)\n",
    "button_start.on_click(on_button_clicked)\n",
    "\n",
    "# Initially display Page A content and the button\n",
    "with output:\n",
    "    display(page_a_content, button_start)\n",
    "\n",
    "# Display the output widget itself\n",
    "display(output)"
   ]
  }
 ],
 "metadata": {
  "kernelspec": {
   "display_name": "Python 3 (ipykernel)",
   "language": "python",
   "name": "python3"
  },
  "language_info": {
   "codemirror_mode": {
    "name": "ipython",
    "version": 3
   },
   "file_extension": ".py",
   "mimetype": "text/x-python",
   "name": "python",
   "nbconvert_exporter": "python",
   "pygments_lexer": "ipython3",
   "version": "3.9.13"
  }
 },
 "nbformat": 4,
 "nbformat_minor": 5
}
