{
 "cells": [
  {
   "cell_type": "code",
   "execution_count": 1,
   "metadata": {},
   "outputs": [],
   "source": [
    "import Casino as c"
   ]
  },
  {
   "cell_type": "code",
   "execution_count": 3,
   "metadata": {},
   "outputs": [],
   "source": [
    "# Parameters\n",
    "player_money = 10\n",
    "host_reward = 3\n",
    "bet_lower_limit = 2\n",
    "bet_upper_limit = 4\n",
    "\n",
    "# Environment\n",
    "casino = c.Casino(host_reward, bet_lower_limit, bet_upper_limit)\n",
    "player = c.Player(player_money, casino=casino)\n",
    "agents = [c.BraggerAgent(casino), c.CowardAgent(casino), c.RandomAgent(casino), c.SmartAgent(casino)]\n",
    "playthrough = c.Playthrough(casino, player, agents)"
   ]
  },
  {
   "cell_type": "code",
   "execution_count": 4,
   "metadata": {},
   "outputs": [
    {
     "name": "stdout",
     "output_type": "stream",
     "text": [
      "You walk into a casino with your last ten coins.These are all you have.Low on budget, you know you can only rely on your intelligence. With the last hope, you sit in front of a table…\n",
      "\n",
      "Rules:\n",
      "You and your opponent must bet the same amount between 2 to 4 coin(s) each round. You both simultaneously choose either \"High\" or \"Low\" as your betting option.\n",
      "1. If both players choose \"Low,\" the host adds 3 coin(s) to the pot for each side.\n",
      "2. If both players choose \"High,\" the host takes half of the coins from each side. For example, if you bet 3 coins, one coin is left.\n",
      "3. If one player selects \"High\" while the other chooses \"Low,\" the \"High\" player wins all the coins in the pot.\n",
      "4. Remember to take all your coins from the table before starting the next round.\n",
      "\n",
      "You have 10 coin(s) left.\n",
      "Welcome to the casino game!\n",
      "\n"
     ]
    }
   ],
   "source": [
    "print(playthrough.get_intro_str())"
   ]
  },
  {
   "cell_type": "code",
   "execution_count": 5,
   "metadata": {},
   "outputs": [
    {
     "name": "stdout",
     "output_type": "stream",
     "text": [
      "BEGIN: You are in round 1.\n",
      "You have 10 coin(s) left.\n",
      "You see your opponent.You overheard that this guy is a bragger. He always bets high.\n",
      "\n",
      "You can bet [2, 3, 4] coin(s).\n",
      "\n",
      "DEBUG: Your average gain for low is -2.0\n",
      "DEBUG: Your average gain for high is -1.0\n",
      "RESULT: You bet 2 coin(s) on High.\n",
      "You lost 1 coin(s) to your opponent.\n",
      "You have 9 coin(s) left.\n",
      "\n",
      "BEGIN: You are in round 2.\n",
      "You have 9 coin(s) left.\n",
      "You see your opponent.You overheard that this guy is a coward. He always bets low.\n",
      "\n",
      "You can bet [2, 3, 4] coin(s).\n",
      "\n",
      "DEBUG: Your average gain for low is 3.0\n",
      "DEBUG: Your average gain for high is 2.0\n",
      "RESULT: You bet 2 coin(s) on High.\n",
      "You won 2 coin(s) from your opponent.\n",
      "You have 11 coin(s) left.\n",
      "\n",
      "BEGIN: You are in round 3.\n",
      "You have 11 coin(s) left.\n",
      "You see your opponent.You overheard that this guy is mad. He randomly bets high or low.\n",
      "\n",
      "You can bet [2, 3, 4] coin(s).\n",
      "\n",
      "DEBUG: Your average gain for low is 0.35\n",
      "DEBUG: Your average gain for high is 0.48\n",
      "RESULT: You bet 2 coin(s) on High.\n",
      "You won 2 coin(s) from your opponent.\n",
      "You have 13 coin(s) left.\n",
      "\n",
      "BEGIN: You are in round 4.\n",
      "You have 13 coin(s) left.\n",
      "You see your opponent.This guy appears to be smart. He bets high if he thinks the expected reward is higher than betting low. And he assumes you choose randomly.\n",
      "\n",
      "You can bet [2, 3, 4] coin(s).\n",
      "\n",
      "DEBUG: Your average gain for low is 0.5\n",
      "DEBUG: Your average gain for high is 0.6\n",
      "RESULT: You bet 2 coin(s) on High.\n",
      "You lost 1 coin(s) to your opponent.\n",
      "You have 12 coin(s) left.\n",
      "\n"
     ]
    }
   ],
   "source": [
    "for i in range(len(agents)):\n",
    "    print(playthrough.get_round_str(i))\n",
    "    \n",
    "    player_bet = player.get_availiable_bets()[0] # Just for example, if player always chooses the lowest bet possible\n",
    "    player_choice = 1 # Just for example, if player always chooses high\n",
    "    playthrough.play_round(i, player_bet, player_choice)\n",
    "\n",
    "    # Debug\n",
    "    avg_gain_low = playthrough.compute_avg_gain(i, player_bet, 0)\n",
    "    avg_gain_high = playthrough.compute_avg_gain(i, player_bet, 1)\n",
    "    print(f\"DEBUG: Your average gain for low is {avg_gain_low}\")\n",
    "    print(f\"DEBUG: Your average gain for high is {avg_gain_high}\")\n",
    "\n",
    "    print(playthrough.get_round_result_str(i))"
   ]
  }
 ],
 "metadata": {
  "kernelspec": {
   "display_name": "mives",
   "language": "python",
   "name": "python3"
  },
  "language_info": {
   "codemirror_mode": {
    "name": "ipython",
    "version": 3
   },
   "file_extension": ".py",
   "mimetype": "text/x-python",
   "name": "python",
   "nbconvert_exporter": "python",
   "pygments_lexer": "ipython3",
   "version": "3.9.16"
  }
 },
 "nbformat": 4,
 "nbformat_minor": 2
}
